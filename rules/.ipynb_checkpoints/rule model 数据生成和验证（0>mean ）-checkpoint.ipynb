{
 "cells": [
  {
   "cell_type": "markdown",
   "metadata": {
    "collapsed": true
   },
   "source": [
    "### RULE "
   ]
  },
  {
   "cell_type": "markdown",
   "metadata": {},
   "source": [
    "第 0 列大于 mean"
   ]
  },
  {
   "cell_type": "markdown",
   "metadata": {},
   "source": [
    "### 训练信息"
   ]
  },
  {
   "cell_type": "code",
   "execution_count": null,
   "metadata": {},
   "outputs": [],
   "source": [
    "train_time      = \"\"\n",
    "log_path        = \"\"          \n",
    "model_path      = \"\"\n",
    "train_data_path = \"\""
   ]
  },
  {
   "cell_type": "markdown",
   "metadata": {},
   "source": [
    "### 全局参数"
   ]
  },
  {
   "cell_type": "code",
   "execution_count": 2,
   "metadata": {},
   "outputs": [],
   "source": [
    "COL_1 = 0"
   ]
  },
  {
   "cell_type": "markdown",
   "metadata": {},
   "source": [
    "### GT 中的 error rate"
   ]
  },
  {
   "cell_type": "code",
   "execution_count": 5,
   "metadata": {},
   "outputs": [
    {
     "name": "stdout",
     "output_type": "stream",
     "text": [
      "pointwise: error: 954, error rate:0.477\n"
     ]
    }
   ],
   "source": [
    "import numpy as np\n",
    "import pandas as pd\n",
    "\n",
    "GROUND_TRUTH_PATH = \"/Users/luminshen/Documents/代码/PycharmProjects/Research/-GAN-/Table-GAN/tableGAN/data/Adult/Adult.csv\"\n",
    "\n",
    "def verify_ground_truth_rule():\n",
    "    file = np.array(pd.read_csv(GROUND_TRUTH_PATH, sep=','))\n",
    "    col_1 = COL_1\n",
    "    count = 0\n",
    "    error_list = []\n",
    "    target_col = file[:,0]\n",
    "    target_mean = np.mean(target_col)\n",
    "    for i, _ in enumerate(file):\n",
    "        if file[i][col_1] > target_mean:\n",
    "            count += 1\n",
    "\n",
    "    print(\"pointwise: error: {}, error rate:{}\".format(count, count / len(file)))\n",
    "    return count\n",
    "   \n",
    "error_GT_pointwise = verify_ground_truth_rule()"
   ]
  },
  {
   "cell_type": "markdown",
   "metadata": {},
   "source": [
    "### 给数据添加标签"
   ]
  },
  {
   "cell_type": "code",
   "execution_count": 43,
   "metadata": {},
   "outputs": [
    {
     "name": "stdout",
     "output_type": "stream",
     "text": [
      "输出完成！Xshape:(2000, 14), yshape:(2000, 1)\n"
     ]
    }
   ],
   "source": [
    "from sklearn.model_selection import train_test_split\n",
    "\n",
    "X_TRAIN_OUTPUT = \"/Users/luminshen/Documents/代码/PycharmProjects/Research/-GAN-/Table-GAN/tableGAN/data/Adult/Adult_rm_0>mean_train.csv\"\n",
    "Y_TRAIN_OUTPUT = \"/Users/luminshen/Documents/代码/PycharmProjects/Research/-GAN-/Table-GAN/tableGAN/data/Adult/Adult_rm_0>mean_train_labels.csv\"\n",
    "X_TEST_OUTPUT = \"/Users/luminshen/Documents/代码/PycharmProjects/Research/-GAN-/Table-GAN/tableGAN/data/Adult/Adult_rm_0>mean_test.csv\"\n",
    "Y_TEST_OUTPUT = \"/Users/luminshen/Documents/代码/PycharmProjects/Research/-GAN-/Table-GAN/tableGAN/data/Adult/Adult_rm_0>mean_test_labels.csv\"\n",
    "\n",
    "def generate_data():\n",
    "    file = np.array(pd.read_csv(GROUND_TRUTH_PATH, sep=','))\n",
    "    col_1 = COL_1\n",
    "    count = 0\n",
    "    error_list = []\n",
    "    target_col = file[:,0]\n",
    "    target_mean = np.mean(target_col)\n",
    "    y = []\n",
    "    for i, _ in enumerate(file):\n",
    "        if file[i][col_1] > target_mean:\n",
    "            y.append(1)\n",
    "        else:\n",
    "            y.append(0)\n",
    "    \n",
    "    \n",
    "    # 拆分数据集\n",
    "    X = file\n",
    "    y = np.array(labels)\n",
    "    X_train, X_test, y_train, y_test = train_test_split(X, y, test_size=0.2, random_state=1)\n",
    "    \n",
    "    X_train_out = pd.DataFrame(X_train)\n",
    "    y_train_out = pd.DataFrame(y_train)\n",
    "    X_test_out = pd.DataFrame(X_test)\n",
    "    y_test_out = pd.DataFrame(y_test)\n",
    "    \n",
    "    X_train_out.to_csv(X_TRAIN_OUTPUT, index=False, sep=',')\n",
    "    y_train_out.to_csv(Y_TRAIN_OUTPUT, index=False, sep=',')\n",
    "    X_test_out.to_csv(X_TEST_OUTPUT, index=False, sep=',')\n",
    "    y_test_out.to_csv(Y_TEST_OUTPUT, index=False, sep=',')\n",
    "    \n",
    "    \n",
    "    \n",
    "    print(\"输出完成！Xshape:{}, yshape:{}\".format(X.shape, y.shape))\n",
    "    return error\n",
    "\n",
    "error_GD = generate_data()"
   ]
  },
  {
   "cell_type": "markdown",
   "metadata": {},
   "source": [
    "### 验证 Fake Data"
   ]
  },
  {
   "cell_type": "code",
   "execution_count": null,
   "metadata": {},
   "outputs": [],
   "source": [
    "OUTPUT_TMP_PATH = \"/Users/luminshen/Documents/代码/PycharmProjects/Research/-GAN-/Table-GAN/tableGAN/samples/Adult/Adult_OI_11_00_fake.csv\"\n",
    "OUTPUT_PATH = \"\"\n",
    "\n",
    "def verify_fake_data_rule(c1, c2):\n",
    "    file = list(np.array(pd.read_csv(OUTPUT_TMP_PATH, sep=',')))\n",
    "    col_1 = c1\n",
    "    col_2 = c2\n",
    "    count = 0\n",
    "    error_list = []\n",
    "    for i, _ in enumerate(file):\n",
    "        isOk = True\n",
    "        t = 0\n",
    "        for j, _ in enumerate(file):\n",
    "            if file[i][col_1] > file[j][col_1] and file[i][col_2] > file[j][col_2]:\n",
    "                t -= 1\n",
    "                if t < 0:\n",
    "                    isOk = False\n",
    "                    count += 1\n",
    "                    break\n",
    "    print(\"fake:         error: {}, error rate:{}\".format(count, count / len(file)))\n",
    "    print(\"ground truth: error: {}, error rate:{}\".format(error_GT, error_GT / len(file)))\n",
    "    print(\"-----------------------------\")\n",
    "\n",
    "verify_fake_data_rule(COL_1, COL_2)\n",
    "\n",
    "for c1 in range(10):\n",
    "    for c2 in range(10):\n",
    "        if c1 == c2:\n",
    "            continue\n",
    "        verify_fake_data_rule(c1, c2)"
   ]
  }
 ],
 "metadata": {
  "kernelspec": {
   "display_name": "Python 3",
   "language": "python",
   "name": "python3"
  },
  "language_info": {
   "codemirror_mode": {
    "name": "ipython",
    "version": 3
   },
   "file_extension": ".py",
   "mimetype": "text/x-python",
   "name": "python",
   "nbconvert_exporter": "python",
   "pygments_lexer": "ipython3",
   "version": "3.7.4"
  }
 },
 "nbformat": 4,
 "nbformat_minor": 1
}
