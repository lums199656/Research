{
 "cells": [
  {
   "cell_type": "markdown",
   "id": "white-keeping",
   "metadata": {},
   "source": [
    "### 加载模型"
   ]
  },
  {
   "cell_type": "code",
   "execution_count": null,
   "id": "velvet-improvement",
   "metadata": {},
   "outputs": [],
   "source": [
    "MODEL_PATH = \"/Users/luminshen/Desktop/模型/rule model/T-3>9>\"\n",
    "MODEL = None\n",
    "\n",
    "def load(checkpoint_dir):\n",
    "    import re\n",
    "    global MODEL\n",
    "    print(\" [*] Reading checkpoints from \" + checkpoint_dir + \" ...\")\n",
    "\n",
    "    if os.path.exists(f'{checkpoint_dir}/{self.model_dir}'):\n",
    "        highest_num = 0\n",
    "        for f in os.listdir(f'{checkpoint_dir}'):\n",
    "            print(f)\n",
    "            if f.startswith(f'{self.model_dir}') and f.replace(self.model_dir, '') != '':\n",
    "                print(f)\n",
    "                file_name = os.path.splitext(f)[0][-1]\n",
    "                try:\n",
    "                    file_num = int(file_name)\n",
    "                    if file_num > highest_num:\n",
    "                        highest_num = file_num\n",
    "                except ValueError:\n",
    "                    print(f'The file name {file_name} is not an integer. Skipping')\n",
    "        if highest_num == 0:\n",
    "            checkpoint_dir = f'{checkpoint_dir}/{self.model_dir}'\n",
    "        else:\n",
    "            checkpoint_dir = f'{checkpoint_dir}/{self.model_dir}_{highest_num}'\n",
    "    print(f'checkpoint dir: {checkpoint_dir}')\n",
    "    checkpoint_dir = os.path.join(checkpoint_dir)\n",
    "\n",
    "    ckpt = tf.train.get_checkpoint_state(checkpoint_dir)\n",
    "    print(ckpt)\n",
    "    if ckpt and ckpt.model_checkpoint_path:\n",
    "        ckpt_name = os.path.basename(ckpt.model_checkpoint_path)\n",
    "\n",
    "        self.saver.restore(self.sess, os.path.join(\n",
    "            checkpoint_dir, ckpt_name))\n",
    "\n",
    "        counter = int(\n",
    "            next(re.finditer(\"(\\d+)(?!.*\\d)\", ckpt_name)).group(0))\n",
    "\n",
    "        print(\" [*] Success to read {}\".format(ckpt_name))\n",
    "\n",
    "        return True\n",
    "    else:\n",
    "        print(\" [*] Failed to find a checkpoint\")\n",
    "        return False\n",
    "    \n",
    "couldLoad, load(MODEL_PATH)"
   ]
  }
 ],
 "metadata": {
  "kernelspec": {
   "display_name": "Python 3",
   "language": "python",
   "name": "python3"
  },
  "language_info": {
   "codemirror_mode": {
    "name": "ipython",
    "version": 3
   },
   "file_extension": ".py",
   "mimetype": "text/x-python",
   "name": "python",
   "nbconvert_exporter": "python",
   "pygments_lexer": "ipython3",
   "version": "3.7.4"
  }
 },
 "nbformat": 4,
 "nbformat_minor": 5
}
