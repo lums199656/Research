{
 "cells": [
  {
   "cell_type": "markdown",
   "id": "worst-bible",
   "metadata": {},
   "source": [
    "### 选出 14 个 features"
   ]
  },
  {
   "cell_type": "code",
   "execution_count": 1,
   "id": "earlier-tablet",
   "metadata": {},
   "outputs": [],
   "source": [
    "import numpy as np\n",
    "import pandas as pd\n",
    "\n",
    "TICKET_PATH = \"/Users/luminshen/Documents/代码/PycharmProjects/Research/-GAN-/Table-GAN/tableGAN/data/Ticket/original data/Ticket.csv\"\n",
    "TICKET_LABELS_PATH = \"/Users/luminshen/Documents/代码/PycharmProjects/Research/-GAN-/Table-GAN/tableGAN/data/Ticket/original data/Ticket_labels.csv\"\n",
    "X_OUTPUT = \"/Users/luminshen/Documents/代码/PycharmProjects/Research/-GAN-/Table-GAN/tableGAN/data/Ticket/Ticket.csv\"\n",
    "Y_OUTPUT = \"/Users/luminshen/Documents/代码/PycharmProjects/Research/-GAN-/Table-GAN/tableGAN/data/Ticket/Ticket_labels.csv\"\n",
    "\n",
    "\n",
    "\n",
    "data = np.array(pd.read_csv(TICKET_PATH, sep=';'))\n",
    "labels = np.array(pd.read_csv(TICKET_LABELS_PATH, sep=';'))\n",
    "\n",
    "# 选出需要的列\n",
    "features_index = [10, 11, 12, 13, 14, 15, 22, 23, 24, 26, 31, 32, 34, 35]\n",
    "\n",
    "final_data = data[:,10].reshape(data[:,10].shape[0], 1)\n",
    "\n",
    "for i in features_index:\n",
    "    if i == 10: continue\n",
    "    final_data = np.append(final_data, data[:,i].reshape(data[:,10].shape[0], 1), axis=1)\n",
    "    \n",
    "# 提取 2000 列\n",
    "seed = np.random.randint(100000000)\n",
    "np.random.seed(seed)\n",
    "np.random.shuffle(final_data)\n",
    "\n",
    "np.random.seed(seed)\n",
    "np.random.shuffle(labels)\n",
    "\n",
    "data = final_data[:2000]\n",
    "labels = labels[:2000].reshape(2000,1)\n",
    "\n",
    "count = 0\n",
    "for idx, l  in enumerate(labels):\n",
    "    if l[0] > 1:\n",
    "        labels[idx][0] = 1\n",
    "\n",
    "# 导出\n",
    "X_out = pd.DataFrame(data)\n",
    "y_out = pd.DataFrame(labels)\n",
    "X_out.to_csv(X_OUTPUT, index=False, sep=',')\n",
    "y_out.to_csv(Y_OUTPUT, index=False, sep=',')"
   ]
  },
  {
   "cell_type": "code",
   "execution_count": 2,
   "id": "affiliated-suggestion",
   "metadata": {},
   "outputs": [
    {
     "name": "stdout",
     "output_type": "stream",
     "text": [
      "(2000, 1)\n"
     ]
    }
   ],
   "source": [
    "test = np.array(pd.read_csv(Y_OUTPUT, sep=','))\n",
    "print(test.shape)"
   ]
  },
  {
   "cell_type": "code",
   "execution_count": null,
   "id": "ceramic-collection",
   "metadata": {},
   "outputs": [],
   "source": []
  }
 ],
 "metadata": {
  "kernelspec": {
   "display_name": "Python 3",
   "language": "python",
   "name": "python3"
  },
  "language_info": {
   "codemirror_mode": {
    "name": "ipython",
    "version": 3
   },
   "file_extension": ".py",
   "mimetype": "text/x-python",
   "name": "python",
   "nbconvert_exporter": "python",
   "pygments_lexer": "ipython3",
   "version": "3.7.4"
  }
 },
 "nbformat": 4,
 "nbformat_minor": 5
}
