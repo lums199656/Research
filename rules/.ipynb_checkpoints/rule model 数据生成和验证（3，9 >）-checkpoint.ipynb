{
 "cells": [
  {
   "cell_type": "markdown",
   "metadata": {
    "collapsed": true
   },
   "source": [
    "### RULE "
   ]
  },
  {
   "cell_type": "markdown",
   "metadata": {},
   "source": [
    "第 3 列更大时，第 9 列也更大"
   ]
  },
  {
   "cell_type": "markdown",
   "metadata": {},
   "source": [
    "### 训练信息"
   ]
  },
  {
   "cell_type": "code",
   "execution_count": null,
   "metadata": {},
   "outputs": [],
   "source": [
    "train_time      = \"3h25min\"\n",
    "log_path        =  \"/Users/luminshen/Desktop/模型/rule model/3大，9大/events.out.tfevents.1619669644.luminshendeMacBook-Pro.local\"          \n",
    "model_path      = \"/Users/luminshen/Desktop/模型/rule model/3大，9大/Adult_500_7_7\"\n",
    "train_data_path = \"/Users/luminshen/Desktop/模型/rule model/3大，9大/traindata\""
   ]
  },
  {
   "cell_type": "markdown",
   "metadata": {},
   "source": [
    "### 全局参数"
   ]
  },
  {
   "cell_type": "code",
   "execution_count": 1,
   "metadata": {},
   "outputs": [],
   "source": [
    "COL_1 = 3\n",
    "COL_2 = 9"
   ]
  },
  {
   "cell_type": "markdown",
   "metadata": {},
   "source": [
    "### GT 中的 error rate"
   ]
  },
  {
   "cell_type": "code",
   "execution_count": 2,
   "metadata": {},
   "outputs": [
    {
     "name": "stdout",
     "output_type": "stream",
     "text": [
      "error: 1123, error rate:0.5615\n"
     ]
    }
   ],
   "source": [
    "import numpy as np\n",
    "import pandas as pd\n",
    "\n",
    "GROUND_TRUTH_PATH = \"/Users/luminshen/Documents/代码/PycharmProjects/Research/-GAN-/Table-GAN/tableGAN/data/Adult/Adult.csv\"\n",
    "\n",
    "def verify_ground_truth_rule():\n",
    "    file = list(np.array(pd.read_csv(GROUND_TRUTH_PATH, sep=',')))\n",
    "    col_1 = COL_1\n",
    "    col_2 = COL_2\n",
    "    count = 0\n",
    "    error_list = []\n",
    "    for i, _ in enumerate(file):\n",
    "        isOk = True\n",
    "        t = 0\n",
    "        for j, _ in enumerate(file):\n",
    "            if file[i][col_1] > file[j][col_1] and file[i][col_2] > file[j][col_2]:\n",
    "                error_list.append((i+2, j+2))\n",
    "                t -= 1\n",
    "                if t < 0:\n",
    "                    isOk = False\n",
    "                    count += 1\n",
    "                    break\n",
    "    print(\"error: {}, error rate:{}\".format(count, count / len(file)))\n",
    "    return count\n",
    "\n",
    "error_GT = verify_ground_truth_rule()"
   ]
  },
  {
   "cell_type": "markdown",
   "metadata": {},
   "source": [
    "### 给数据添加标签"
   ]
  },
  {
   "cell_type": "code",
   "execution_count": 3,
   "metadata": {},
   "outputs": [
    {
     "name": "stdout",
     "output_type": "stream",
     "text": [
      "输出完成！Xshape:(2000, 14), yshape:(2000, 1) error: 1123, error rate:0.5615\n"
     ]
    }
   ],
   "source": [
    "X_OUTPUT = \"/Users/luminshen/Documents/代码/PycharmProjects/Research/-GAN-/Table-GAN/tableGAN/data/Adult/Adult_rulemodel.csv\"\n",
    "Y_OUTPUT = \"/Users/luminshen/Documents/代码/PycharmProjects/Research/-GAN-/Table-GAN/tableGAN/data/Adult/Adult_rulemodel_labels.csv\"\n",
    "\n",
    "def generate_data():\n",
    "    file = list(np.array(pd.read_csv(GROUND_TRUTH_PATH, sep=',')))\n",
    "    positive = []\n",
    "    labels = []\n",
    "    negative = []\n",
    "    col_1 = COL_1\n",
    "    col_2 = COL_2\n",
    "    error = 0\n",
    "    for i, _ in enumerate(file):\n",
    "        isOK = True\n",
    "        for j, _ in enumerate(file):\n",
    "            if file[i][col_1] > file[j][col_1] and file[i][col_2] > file[j][col_2]:\n",
    "                negative.append(file[i])\n",
    "                labels.append([1])\n",
    "                error += 1\n",
    "                isOK = False\n",
    "                break\n",
    "        if isOK:\n",
    "            positive.append(file[i])\n",
    "            labels.append([0])\n",
    "\n",
    "    X = np.array(positive + negative)\n",
    "    y = np.array(labels)\n",
    "    X_out = pd.DataFrame(X)\n",
    "    y_out = pd.DataFrame(y)\n",
    "    X_out.to_csv(X_OUTPUT, index=False, sep=',')\n",
    "    y_out.to_csv(Y_OUTPUT, index=False, sep=',')\n",
    "    print(\"输出完成！Xshape:{}, yshape:{} error: {}, error rate:{}\".format(X.shape, y.shape, error, error / len(X)))\n",
    "    return error\n",
    "\n",
    "error_GD = generate_data()"
   ]
  },
  {
   "cell_type": "code",
   "execution_count": 4,
   "metadata": {},
   "outputs": [],
   "source": [
    "assert(error_GT == error_GD)"
   ]
  },
  {
   "cell_type": "markdown",
   "metadata": {},
   "source": [
    "### 验证 Fake Data"
   ]
  },
  {
   "cell_type": "code",
   "execution_count": 54,
   "metadata": {},
   "outputs": [
    {
     "name": "stdout",
     "output_type": "stream",
     "text": [
      "ground truth: error:    35988, error rate:0.008997\n",
      "fake        : error:    32246, error rate:0.008061, diff:-0.000936\n",
      "original    : error:    54582, error rate:0.013645, diff:+0.004648\n",
      "------------------------------------------------\n",
      "ground truth: error:    39658, error rate:0.009914\n",
      "fake        : error:    60164, error rate:0.015041, diff:+0.005127\n",
      "original    : error:    85712, error rate:0.021428, diff:+0.011513\n",
      "------------------------------------------------ 1:0\n",
      "ground truth: error:    85084, error rate:0.021271\n",
      "fake        : error:    78548, error rate:0.019637, diff:-0.001634\n",
      "original    : error:   316900, error rate:0.079225, diff:+0.057954\n",
      "------------------------------------------------ 2:0\n",
      "ground truth: error:    66284, error rate:0.016571\n",
      "fake        : error:    65228, error rate:0.016307, diff:-0.000264\n",
      "original    : error:   143984, error rate:0.035996, diff:+0.019425\n",
      "------------------------------------------------ 3:0\n",
      "ground truth: error:    66284, error rate:0.016571\n",
      "fake        : error:    66214, error rate:0.016553, diff:-0.000018\n",
      "original    : error:   195090, error rate:0.048773, diff:+0.032202\n",
      "------------------------------------------------ 4:0\n",
      "ground truth: error:    45678, error rate:0.011420\n",
      "fake        : error:    53128, error rate:0.013282, diff:+0.001862\n",
      "original    : error:    95764, error rate:0.023941, diff:+0.012521\n",
      "------------------------------------------------ 5:0\n",
      "ground truth: error:    75804, error rate:0.018951\n",
      "fake        : error:    71266, error rate:0.017816, diff:-0.001135\n",
      "original    : error:   159800, error rate:0.039950, diff:+0.020999\n",
      "------------------------------------------------ 6:0\n",
      "ground truth: error:    55728, error rate:0.013932\n",
      "fake        : error:    58002, error rate:0.014500, diff:+0.000568\n",
      "original    : error:   133476, error rate:0.033369, diff:+0.019437\n",
      "------------------------------------------------ 7:0\n",
      "ground truth: error:    23754, error rate:0.005939\n",
      "fake        : error:    17260, error rate:0.004315, diff:-0.001623\n",
      "original    : error:    47934, error rate:0.011983, diff:+0.006045\n",
      "------------------------------------------------ 8:0\n",
      "ground truth: error:    35988, error rate:0.008997\n",
      "fake        : error:    32246, error rate:0.008061, diff:-0.000936\n",
      "original    : error:    54582, error rate:0.013645, diff:+0.004648\n",
      "------------------------------------------------ 9:0\n",
      "ground truth: error:  1931604, error rate:0.482901\n",
      "fake        : error:   877372, error rate:0.219343, diff:-0.263558\n",
      "original    : error:  1732722, error rate:0.433181, diff:-0.049721\n",
      "------------------------------------------------ 9:1\n",
      "ground truth: error:  1977002, error rate:0.494250\n",
      "fake        : error:   894832, error rate:0.223708, diff:-0.270543\n",
      "original    : error:  1960854, error rate:0.490214, diff:-0.004037\n",
      "------------------------------------------------ 9:2\n",
      "ground truth: error:  1576404, error rate:0.394101\n",
      "fake        : error:   754754, error rate:0.188689, diff:-0.205412\n",
      "original    : error:  1114196, error rate:0.278549, diff:-0.115552\n",
      "------------------------------------------------ 9:3\n",
      "ground truth: error:  1576404, error rate:0.394101\n",
      "fake        : error:   756584, error rate:0.189146, diff:-0.204955\n",
      "original    : error:  1495768, error rate:0.373942, diff:-0.020159\n",
      "------------------------------------------------ 9:4\n",
      "ground truth: error:  1298974, error rate:0.324744\n",
      "fake        : error:   590992, error rate:0.147748, diff:-0.176996\n",
      "original    : error:   938696, error rate:0.234674, diff:-0.090070\n",
      "------------------------------------------------ 9:5\n",
      "ground truth: error:  1749974, error rate:0.437493\n",
      "fake        : error:   813190, error rate:0.203297, diff:-0.234196\n",
      "original    : error:  1052234, error rate:0.263058, diff:-0.174435\n",
      "------------------------------------------------ 9:6\n",
      "ground truth: error:  1448702, error rate:0.362175\n",
      "fake        : error:   649028, error rate:0.162257, diff:-0.199918\n",
      "original    : error:  1196730, error rate:0.299183, diff:-0.062993\n",
      "------------------------------------------------ 9:7\n",
      "ground truth: error:   527258, error rate:0.131815\n",
      "fake        : error:   220736, error rate:0.055184, diff:-0.076631\n",
      "original    : error:   248944, error rate:0.062236, diff:-0.069579\n",
      "------------------------------------------------ 9:8\n",
      "ground truth: error:   862850, error rate:0.215713\n",
      "fake        : error:   384620, error rate:0.096155, diff:-0.119557\n",
      "original    : error:   453224, error rate:0.113306, diff:-0.102406\n",
      "------------------------------------------------ 9:9\n",
      "ground truth: error:       94, error rate:0.000023\n",
      "fake        : error:     3936, error rate:0.000984, diff:+0.000961\n",
      "original    : error:     5424, error rate:0.001356, diff:+0.001332\n",
      "------------------------------------------------ 10:9\n",
      "ground truth: error:       66, error rate:0.000017\n",
      "fake        : error:     3012, error rate:0.000753, diff:+0.000736\n",
      "original    : error:     2368, error rate:0.000592, diff:+0.000575\n",
      "------------------------------------------------ 10:10\n",
      "ground truth: error:       96, error rate:0.000024\n",
      "fake        : error:     3420, error rate:0.000855, diff:+0.000831\n",
      "original    : error:     3906, error rate:0.000977, diff:+0.000953\n",
      "------------------------------------------------ 11:10\n",
      "ground truth: error:       96, error rate:0.000024\n",
      "fake        : error:     3416, error rate:0.000854, diff:+0.000830\n",
      "original    : error:     3664, error rate:0.000916, diff:+0.000892\n",
      "------------------------------------------------ 12:10\n",
      "ground truth: error:       56, error rate:0.000014\n",
      "fake        : error:     2412, error rate:0.000603, diff:+0.000589\n",
      "original    : error:     2066, error rate:0.000517, diff:+0.000503\n",
      "------------------------------------------------ 12:11\n",
      "ground truth: error:      102, error rate:0.000025\n",
      "fake        : error:     3618, error rate:0.000905, diff:+0.000879\n",
      "original    : error:     2652, error rate:0.000663, diff:+0.000637\n",
      "------------------------------------------------ 12:12\n",
      "ground truth: error:       64, error rate:0.000016\n",
      "fake        : error:     2828, error rate:0.000707, diff:+0.000691\n",
      "original    : error:     2572, error rate:0.000643, diff:+0.000627\n",
      "------------------------------------------------ 12:13\n",
      "ground truth: error:        8, error rate:0.000002\n",
      "fake        : error:      666, error rate:0.000167, diff:+0.000165\n",
      "original    : error:      478, error rate:0.000120, diff:+0.000118\n",
      "------------------------------------------------ 12:14\n",
      "ground truth: error:        6, error rate:0.000002\n",
      "fake        : error:     1792, error rate:0.000448, diff:+0.000447\n",
      "original    : error:     1904, error rate:0.000476, diff:+0.000475\n",
      "------------------------------------------------ 13:14\n",
      "ground truth: error:   765356, error rate:0.191339\n",
      "fake        : error:   602744, error rate:0.150686, diff:-0.040653\n",
      "original    : error:   949624, error rate:0.237406, diff:+0.046067\n",
      "------------------------------------------------ 14:14\n",
      "ground truth: error:   383530, error rate:0.095882\n",
      "fake        : error:   475062, error rate:0.118765, diff:+0.022883\n",
      "original    : error:   272826, error rate:0.068207, diff:-0.027676\n",
      "------------------------------------------------ 15:14\n",
      "ground truth: error:   784158, error rate:0.196040\n",
      "fake        : error:   615548, error rate:0.153887, diff:-0.042153\n",
      "original    : error:  1121022, error rate:0.280255, diff:+0.084216\n",
      "------------------------------------------------ 16:14\n",
      "ground truth: error:        0, error rate:0.000000\n"
     ]
    },
    {
     "ename": "IndexError",
     "evalue": "index 3 is out of bounds for axis 0 with size 1",
     "output_type": "error",
     "traceback": [
      "\u001b[0;31m---------------------------------------------------------------------------\u001b[0m",
      "\u001b[0;31mIndexError\u001b[0m                                Traceback (most recent call last)",
      "\u001b[0;32m<ipython-input-54-c23e313d1be1>\u001b[0m in \u001b[0;36m<module>\u001b[0;34m\u001b[0m\n\u001b[1;32m     50\u001b[0m             \u001b[0;32mcontinue\u001b[0m\u001b[0;34m\u001b[0m\u001b[0;34m\u001b[0m\u001b[0m\n\u001b[1;32m     51\u001b[0m         \u001b[0mratio\u001b[0m \u001b[0;34m=\u001b[0m \u001b[0mverify_rule\u001b[0m\u001b[0;34m(\u001b[0m\u001b[0mGROUND_TRUTH_PATH\u001b[0m\u001b[0;34m,\u001b[0m \u001b[0;36m0\u001b[0m\u001b[0;34m,\u001b[0m \u001b[0mc1\u001b[0m\u001b[0;34m,\u001b[0m \u001b[0mc2\u001b[0m \u001b[0;34m,\u001b[0m \u001b[0;34m\"\"\u001b[0m\u001b[0;34m)\u001b[0m\u001b[0;34m\u001b[0m\u001b[0;34m\u001b[0m\u001b[0m\n\u001b[0;32m---> 52\u001b[0;31m         \u001b[0mdiff_fake\u001b[0m \u001b[0;34m=\u001b[0m \u001b[0mverify_rule\u001b[0m\u001b[0;34m(\u001b[0m\u001b[0mOUTPUT_TMP_PATH\u001b[0m\u001b[0;34m,\u001b[0m \u001b[0mratio\u001b[0m\u001b[0;34m,\u001b[0m \u001b[0mc1\u001b[0m\u001b[0;34m,\u001b[0m \u001b[0mc2\u001b[0m\u001b[0;34m,\u001b[0m \u001b[0;34m\"fake\"\u001b[0m\u001b[0;34m)\u001b[0m\u001b[0;34m\u001b[0m\u001b[0;34m\u001b[0m\u001b[0m\n\u001b[0m\u001b[1;32m     53\u001b[0m         \u001b[0mdiff_original\u001b[0m \u001b[0;34m=\u001b[0m \u001b[0mverify_rule\u001b[0m\u001b[0;34m(\u001b[0m\u001b[0mORIGINAL_PATH\u001b[0m\u001b[0;34m,\u001b[0m \u001b[0mratio\u001b[0m\u001b[0;34m,\u001b[0m \u001b[0mc1\u001b[0m\u001b[0;34m,\u001b[0m \u001b[0mc2\u001b[0m\u001b[0;34m,\u001b[0m \u001b[0;34m\"original\"\u001b[0m\u001b[0;34m)\u001b[0m\u001b[0;34m\u001b[0m\u001b[0;34m\u001b[0m\u001b[0m\n\u001b[1;32m     54\u001b[0m         \u001b[0msum_fake\u001b[0m \u001b[0;34m+=\u001b[0m \u001b[0mabs\u001b[0m\u001b[0;34m(\u001b[0m\u001b[0mdiff_fake\u001b[0m\u001b[0;34m)\u001b[0m\u001b[0;34m\u001b[0m\u001b[0;34m\u001b[0m\u001b[0m\n",
      "\u001b[0;32m<ipython-input-54-c23e313d1be1>\u001b[0m in \u001b[0;36mverify_rule\u001b[0;34m(path, ratio, c1, c2, name)\u001b[0m\n\u001b[1;32m     16\u001b[0m         \u001b[0mt\u001b[0m \u001b[0;34m=\u001b[0m \u001b[0;36m0\u001b[0m\u001b[0;34m\u001b[0m\u001b[0;34m\u001b[0m\u001b[0m\n\u001b[1;32m     17\u001b[0m         \u001b[0;32mfor\u001b[0m \u001b[0mj\u001b[0m\u001b[0;34m,\u001b[0m \u001b[0m_\u001b[0m \u001b[0;32min\u001b[0m \u001b[0menumerate\u001b[0m\u001b[0;34m(\u001b[0m\u001b[0mfile\u001b[0m\u001b[0;34m)\u001b[0m\u001b[0;34m:\u001b[0m\u001b[0;34m\u001b[0m\u001b[0;34m\u001b[0m\u001b[0m\n\u001b[0;32m---> 18\u001b[0;31m             \u001b[0;32mif\u001b[0m \u001b[0mfile\u001b[0m\u001b[0;34m[\u001b[0m\u001b[0mi\u001b[0m\u001b[0;34m]\u001b[0m\u001b[0;34m[\u001b[0m\u001b[0mcol_1\u001b[0m\u001b[0;34m]\u001b[0m \u001b[0;34m==\u001b[0m \u001b[0mfile\u001b[0m\u001b[0;34m[\u001b[0m\u001b[0mj\u001b[0m\u001b[0;34m]\u001b[0m\u001b[0;34m[\u001b[0m\u001b[0mcol_1\u001b[0m\u001b[0;34m]\u001b[0m \u001b[0;32mand\u001b[0m \u001b[0mfile\u001b[0m\u001b[0;34m[\u001b[0m\u001b[0mi\u001b[0m\u001b[0;34m]\u001b[0m\u001b[0;34m[\u001b[0m\u001b[0mcol_2\u001b[0m\u001b[0;34m]\u001b[0m \u001b[0;34m!=\u001b[0m \u001b[0mfile\u001b[0m\u001b[0;34m[\u001b[0m\u001b[0mj\u001b[0m\u001b[0;34m]\u001b[0m\u001b[0;34m[\u001b[0m\u001b[0mcol_2\u001b[0m\u001b[0;34m]\u001b[0m\u001b[0;34m:\u001b[0m\u001b[0;34m\u001b[0m\u001b[0;34m\u001b[0m\u001b[0m\n\u001b[0m\u001b[1;32m     19\u001b[0m                 \u001b[0mt\u001b[0m \u001b[0;34m-=\u001b[0m \u001b[0;36m1\u001b[0m\u001b[0;34m\u001b[0m\u001b[0;34m\u001b[0m\u001b[0m\n\u001b[1;32m     20\u001b[0m                 \u001b[0;32mif\u001b[0m \u001b[0mt\u001b[0m \u001b[0;34m<\u001b[0m \u001b[0;36m0\u001b[0m\u001b[0;34m:\u001b[0m\u001b[0;34m\u001b[0m\u001b[0;34m\u001b[0m\u001b[0m\n",
      "\u001b[0;31mIndexError\u001b[0m: index 3 is out of bounds for axis 0 with size 1"
     ]
    }
   ],
   "source": [
    "OUTPUT_TMP_PATH = \"/Users/luminshen/Documents/代码/PycharmProjects/Research/-GAN-/Table-GAN/tableGAN/samples/Adult/Adult_OI_11_00_fake.csv\"\n",
    "OUTPUT_PATH = \"\"\n",
    "ORIGINAL_PATH = \"/Users/luminshen/Desktop/模型/original gan/600分钟/Adult_OI_11_00_fake.csv\"\n",
    "\n",
    "def verify_rule(path, ratio, c1, c2, name):\n",
    "    if ratio == 0:\n",
    "        file = list(np.array(pd.read_csv(path, sep=',')))\n",
    "    else:\n",
    "        file = list(np.array(pd.read_csv(path, sep=';')))\n",
    "    col_1 = c1\n",
    "    col_2 = c2\n",
    "    count = 0\n",
    "    error_list = []\n",
    "    for i, _ in enumerate(file):\n",
    "        isOk = True\n",
    "        t = 0\n",
    "        for j, _ in enumerate(file):\n",
    "            if file[i][col_1] == file[j][col_1] and file[i][col_2] != file[j][col_2]:\n",
    "                t -= 1\n",
    "                if t < 0:\n",
    "                    count += 1\n",
    "\n",
    "    error_rate = count / len(file)**2\n",
    "    if ratio == 0:\n",
    "        print(\"ground truth: error: {:8.0f}, error rate:{:8.6f}\".format(count, count / len(file)**2))\n",
    "        return count / len(file)**2    \n",
    "    \n",
    "    else:    \n",
    "        if error_rate - ratio > 0:\n",
    "            print(\"{:12}: error: {:8.0f}, error rate:{:8.6f}, diff:+{:8.6f}\".format(name, count, error_rate, error_rate - ratio))\n",
    "        else:\n",
    "            print(\"{:12}: error: {:8.0f}, error rate:{:8.6f}, diff:{:8.6f}\".format(name, count, error_rate, error_rate - ratio))\n",
    "\n",
    "        return error_rate - ratio\n",
    "\n",
    "\n",
    "ratio = verify_rule(GROUND_TRUTH_PATH, -1, 0, 9, \"\")\n",
    "verify_rule(OUTPUT_TMP_PATH, ratio, 0, 9, \"fake\")\n",
    "verify_rule(ORIGINAL_PATH, ratio, 0, 9, \"original\")\n",
    "print(\"------------------------------------------------\")\n",
    "\n",
    "count_fake = 0\n",
    "count_original = 0\n",
    "sum_fake = 0\n",
    "sum_original = 0\n",
    "\n",
    "for c1 in range(10):\n",
    "    for c2 in range(10):\n",
    "        if c1 == c2:\n",
    "            continue\n",
    "        ratio = verify_rule(GROUND_TRUTH_PATH, -1, c1, c2 , \"\")\n",
    "        diff_fake = verify_rule(OUTPUT_TMP_PATH, ratio, c1, c2, \"fake\")\n",
    "        diff_original = verify_rule(ORIGINAL_PATH, ratio, c1, c2, \"original\")\n",
    "        sum_fake += abs(diff_fake)\n",
    "        sum_original += abs(diff_original)\n",
    "        if abs(diff_fake) > abs(diff_original):\n",
    "            count_original += 1\n",
    "        else:\n",
    "            count_fake += 1\n",
    "        print(\"------------------------------------------------ {}:{}\".format(count_fake, count_original))\n",
    "\n",
    "print(\"fake: {}, original: {}, ratio: {}, fake_diff: {}. original_diff: {}\".format(count_fake, count_original, count_fake/count_original, sum_fake, sum_original))\n"
   ]
  },
  {
   "cell_type": "code",
   "execution_count": null,
   "metadata": {},
   "outputs": [],
   "source": []
  }
 ],
 "metadata": {
  "kernelspec": {
   "display_name": "Python 3",
   "language": "python",
   "name": "python3"
  },
  "language_info": {
   "codemirror_mode": {
    "name": "ipython",
    "version": 3
   },
   "file_extension": ".py",
   "mimetype": "text/x-python",
   "name": "python",
   "nbconvert_exporter": "python",
   "pygments_lexer": "ipython3",
   "version": "3.7.4"
  }
 },
 "nbformat": 4,
 "nbformat_minor": 1
}
