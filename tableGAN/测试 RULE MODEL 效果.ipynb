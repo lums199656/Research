{
 "cells": [
  {
   "cell_type": "code",
   "execution_count": 4,
   "id": "acute-massage",
   "metadata": {},
   "outputs": [],
   "source": [
    "def count(arr_gb):\n",
    "    arr_gb = pd.Series(arr_gb)       # 转换数据类型\n",
    "    arr_gb = arr_gb.value_counts()   # 计数\n",
    "    arr_gb.sort_index(inplace=True)  # 排序\n",
    "    return arr_gb"
   ]
  },
  {
   "cell_type": "code",
   "execution_count": 5,
   "id": "institutional-judgment",
   "metadata": {},
   "outputs": [
    {
     "name": "stdout",
     "output_type": "stream",
     "text": [
      "(2000, 14) (2000, 1)\n",
      "(1500, 14) (1500, 1)\n"
     ]
    }
   ],
   "source": [
    "# 划分数据集合\n",
    "import numpy as np\n",
    "import pandas as pd\n",
    "from sklearn.model_selection import train_test_split\n",
    "\n",
    "\n",
    "X_PATH = \"/Users/luminshen/Desktop/模型/rule model/3大，9大/traindata/Adult_rulemodel.csv\"\n",
    "y_PATH = \"/Users/luminshen/Desktop/模型/rule model/3大，9大/traindata/Adult_rulemodel_labels.csv\"\n",
    "\n",
    "X = np.array(pd.read_csv(X_PATH, sep=','))\n",
    "y = np.array(pd.read_csv(y_PATH, sep=','))\n",
    "\n",
    "print(X.shape, y.shape)\n",
    "\n",
    "X_train, X_test, y_train, y_test = train_test_split(X, y, test_size=0.25, random_state=1)\n",
    "print(X_train.shape, y_train.shape)"
   ]
  },
  {
   "cell_type": "code",
   "execution_count": 8,
   "id": "generous-mission",
   "metadata": {},
   "outputs": [
    {
     "name": "stdout",
     "output_type": "stream",
     "text": [
      "0    214\n",
      "1    286\n",
      "dtype: int64\n"
     ]
    }
   ],
   "source": [
    "# 导出训练数据\n",
    "X_OUTPUT_PATH = \"/Users/luminshen/Documents/代码/PycharmProjects/Research/-GAN-/Table-GAN/tableGAN/data/Adult/Adult_rulemodel_test.csv\"\n",
    "y_OUTPUT_PATH = \"/Users/luminshen/Documents/代码/PycharmProjects/Research/-GAN-/Table-GAN/tableGAN/data/Adult/Adult_rulemodel_test_labels.csv\"\n",
    "\n",
    "X_train_out = pd.DataFrame(X_train)\n",
    "y_train_out = pd.DataFrame(y_train)\n",
    "X_train_out.to_csv(X_OUTPUT_PATH, index=False, sep=',')\n",
    "y_train_out.to_csv(y_OUTPUT_PATH, index=False, sep=',')\n",
    "\n",
    "print(count(y_test.flatten()))"
   ]
  },
  {
   "cell_type": "code",
   "execution_count": 3,
   "id": "sitting-growing",
   "metadata": {},
   "outputs": [],
   "source": [
    "# 导出测试数据\n",
    "X_OUTPUT_PATH = \"/Users/luminshen/Documents/代码/PycharmProjects/Research/-GAN-/Table-GAN/tableGAN/data/Adult/Adult_rulemodel_testdata.csv\"\n",
    "X_test_out = pd.DataFrame(X_test)\n",
    "X_test_out.to_csv(X_OUTPUT_PATH, index=False, sep=',')"
   ]
  },
  {
   "cell_type": "code",
   "execution_count": null,
   "id": "authentic-hawaii",
   "metadata": {},
   "outputs": [],
   "source": [
    "# 导入模型 pred\n",
    "y_PRED_PATH = \"/Users/luminshen/Documents/代码/PycharmProjects/Research/-GAN-/Table-GAN/tableGAN/data/Adult/Adult_rm_pred.csv\"\n",
    "y_pred = np.array(pd.read_csv(y_PRED_PATH, sep=','))\n"
   ]
  }
 ],
 "metadata": {
  "kernelspec": {
   "display_name": "Python 3",
   "language": "python",
   "name": "python3"
  },
  "language_info": {
   "codemirror_mode": {
    "name": "ipython",
    "version": 3
   },
   "file_extension": ".py",
   "mimetype": "text/x-python",
   "name": "python",
   "nbconvert_exporter": "python",
   "pygments_lexer": "ipython3",
   "version": "3.7.4"
  }
 },
 "nbformat": 4,
 "nbformat_minor": 5
}
